{
 "cells": [
  {
   "cell_type": "code",
   "execution_count": 1,
   "metadata": {},
   "outputs": [],
   "source": [
    "import random\n",
    "import pandas as pd\n",
    "from sklearn.tree import DecisionTreeClassifier\n",
    "from sklearn.externals.six import StringIO   \n",
    "from sklearn.tree import export_graphviz\n",
    "import pydotplus"
   ]
  },
  {
   "cell_type": "code",
   "execution_count": 2,
   "metadata": {},
   "outputs": [],
   "source": [
    "df = pd.DataFrame(columns=['activitynum', 'fbfriend', 'igfan', 'joinsa', 'joinballteam',\n",
    "                           'humorous', 'gpa', 'bodyvalue', 'facevalue', 'popular'])"
   ]
  },
  {
   "cell_type": "code",
   "execution_count": 3,
   "metadata": {},
   "outputs": [],
   "source": [
    "for i in range(10000):\n",
    "    tmp = pd.Series({'activitynum':random.randint(0,20), 'fbfriend':random.randint(0,1200), \n",
    "                     'igfan':random.randint(0,1200), 'joinsa':random.randint(0,1),\n",
    "                     'joinballteam':random.randint(0,1),'humorous':random.randint(0,1), \n",
    "                     'gpa':random.uniform(0, 4.3), 'bodyvalue':random.randint(1,10), \n",
    "                     'facevalue':random.randint(1,10), 'popular':random.randint(0,1)})\n",
    "    df = df.append(tmp, ignore_index=True)\n"
   ]
  },
  {
   "cell_type": "code",
   "execution_count": 4,
   "metadata": {
    "scrolled": true
   },
   "outputs": [],
   "source": [
    "for i in range(df.shape[0]):\n",
    "    if df.loc[i,'activitynum'] > 15:\n",
    "        if df.loc[i,'humorous'] == 1:\n",
    "            df.at[i,'popular'] = 1\n",
    "        else:\n",
    "            if df.loc[i,'facevalue'] > 7:\n",
    "                df.at[i,'popular'] = 1\n",
    "            else:\n",
    "                df.at[i,'popular'] = 0\n",
    "    elif df.loc[i,'activitynum'] > 8:\n",
    "        if df.loc[i,'bodyvalue'] > 5:\n",
    "            if df.loc[i,'joinballteam'] == 1:\n",
    "                if df.loc[i,'facevalue'] > 7:\n",
    "                    df.at[i,'popular'] = 1\n",
    "                else:\n",
    "                    df.at[i,'popular'] = 0\n",
    "            else:\n",
    "                df.at[i,'popular'] = 0\n",
    "        else:\n",
    "            if df.loc[i,'humorous'] == 1:\n",
    "                if df.loc[i,'facevalue'] > 7:\n",
    "                    df.at[i,'popular'] = 1\n",
    "                else:\n",
    "                    df.at[i,'popular'] = 0\n",
    "            else:\n",
    "                df.at[i,'popular'] = 0\n",
    "    else:\n",
    "        if df.loc[i,'bodyvalue'] > 5:\n",
    "            if df.loc[i,'joinballteam'] == 1:\n",
    "                if df.loc[i,'facevalue'] > 7:\n",
    "                    df.at[i,'popular'] = 1\n",
    "                else:\n",
    "                    df.at[i,'popular'] = 0\n",
    "            else:\n",
    "                df.at[i,'popular'] = 0\n",
    "        else:\n",
    "            if df.loc[i,'facevalue'] > 7:\n",
    "                df.at[i,'popular'] = 1\n",
    "            elif df.loc[i,'facevalue'] > 3:\n",
    "                if df.loc[i,'gpa'] > 4:\n",
    "                    df.at[i,'popular'] = 1\n",
    "                elif df.loc[i,'gpa'] > 3:\n",
    "                    if df.loc[i,'joinsa'] == 1:\n",
    "                        df.at[i,'popular'] = 1\n",
    "                    else:\n",
    "                        df.at[i,'popular'] = 0\n",
    "                else:\n",
    "                    df.at[i,'popular'] = 0\n",
    "            else:\n",
    "                df.at[i,'popular'] = 0"
   ]
  },
  {
   "cell_type": "code",
   "execution_count": 5,
   "metadata": {},
   "outputs": [],
   "source": [
    "df_train = df[:8000]\n",
    "df_train.head()\n",
    "df_test = df[8000:]\n",
    "df_test.head()\n",
    "\n",
    "y = df_train['popular'].values\n",
    "df_train = df_train.drop('popular', 1)"
   ]
  },
  {
   "cell_type": "code",
   "execution_count": 6,
   "metadata": {},
   "outputs": [
    {
     "data": {
      "text/plain": [
       "True"
      ]
     },
     "execution_count": 6,
     "metadata": {},
     "output_type": "execute_result"
    }
   ],
   "source": [
    "dtree=DecisionTreeClassifier(max_depth=4)\n",
    "dtree.fit(df_train,y)\n",
    "\n",
    "dot_data = StringIO()\n",
    "export_graphviz(dtree, \n",
    "                out_file=dot_data,  \n",
    "                filled=True, \n",
    "                feature_names=list(df_train),\n",
    "                class_names=['Loser','Winner'],\n",
    "                special_characters=True)\n",
    "\n",
    "graph = pydotplus.graph_from_dot_data(dot_data.getvalue())  \n",
    "graph.write_pdf(\"tree2.pdf\")"
   ]
  },
  {
   "cell_type": "code",
   "execution_count": 7,
   "metadata": {},
   "outputs": [
    {
     "data": {
      "text/plain": [
       "array([0.21722706, 0.        , 0.        , 0.        , 0.05160783,\n",
       "       0.24461579, 0.00596733, 0.10713021, 0.37345178])"
      ]
     },
     "execution_count": 7,
     "metadata": {},
     "output_type": "execute_result"
    }
   ],
   "source": [
    "dtree.feature_importances_"
   ]
  },
  {
   "cell_type": "code",
   "execution_count": 8,
   "metadata": {},
   "outputs": [
    {
     "data": {
      "text/plain": [
       "array([1., 0., 0., ..., 0., 1., 0.])"
      ]
     },
     "execution_count": 8,
     "metadata": {},
     "output_type": "execute_result"
    }
   ],
   "source": [
    "y_test = df_test['popular'].values\n",
    "X_test = df_test.drop('popular', 1)\n",
    "\n",
    "y_predict = dtree.predict(X_test)\n",
    "\n",
    "y_predict"
   ]
  },
  {
   "cell_type": "code",
   "execution_count": 9,
   "metadata": {},
   "outputs": [
    {
     "data": {
      "text/plain": [
       "0.9625"
      ]
     },
     "execution_count": 9,
     "metadata": {},
     "output_type": "execute_result"
    }
   ],
   "source": [
    "from sklearn.metrics import accuracy_score\n",
    "\n",
    "accuracy_score(y_test, y_predict)"
   ]
  }
 ],
 "metadata": {
  "kernelspec": {
   "display_name": "Python 3",
   "language": "python",
   "name": "python3"
  },
  "language_info": {
   "codemirror_mode": {
    "name": "ipython",
    "version": 3
   },
   "file_extension": ".py",
   "mimetype": "text/x-python",
   "name": "python",
   "nbconvert_exporter": "python",
   "pygments_lexer": "ipython3",
   "version": "3.5.2"
  }
 },
 "nbformat": 4,
 "nbformat_minor": 2
}
