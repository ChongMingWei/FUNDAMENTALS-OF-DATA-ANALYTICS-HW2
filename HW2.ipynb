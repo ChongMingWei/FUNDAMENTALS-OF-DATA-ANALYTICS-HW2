{
 "cells": [
  {
   "cell_type": "code",
   "execution_count": 1,
   "metadata": {},
   "outputs": [],
   "source": [
    "import random\n",
    "import pandas as pd\n",
    "from sklearn.tree import DecisionTreeClassifier\n",
    "from sklearn.externals.six import StringIO   \n",
    "from sklearn.tree import export_graphviz\n",
    "import pydotplus"
   ]
  },
  {
   "cell_type": "markdown",
   "metadata": {},
   "source": [
    "# Q:預測大學生是否為夯哥/夯姐(Winner)\n",
    "\n",
    "## Attribute\n",
    "### 1. activitynum:參加的活動數，範圍:0-20\n",
    "### 2. fbfriend:FB的好友數，範圍:0-1200    (在此處不影響結果)\n",
    "### 3. igfan:IG的追蹤數，範圍:0-1200          (在此處不影響結果)\n",
    "### 4. joinsa:是否有加入學生會，0:否；1:是\n",
    "### 5. joinballteam:是否有加入球隊，0:否；1:是\n",
    "### 6. humorous:是否幽默，0:否；1:是\n",
    "### 7. gpa:學業成績，範圍:0-4.3\n",
    "### 8. bodyvalue:身材分數，範圍:1-10\n",
    "### 9. facevalue:顏值，範圍:1-10\n",
    "### 10. popular:是否是夯哥/夯姐，0:否(Loser)；1:是(Winner)\n"
   ]
  },
  {
   "cell_type": "code",
   "execution_count": 2,
   "metadata": {},
   "outputs": [],
   "source": [
    "df = pd.DataFrame(columns=['activitynum', 'fbfriend', 'igfan', 'joinsa', 'joinballteam',\n",
    "                           'humorous', 'gpa', 'bodyvalue', 'facevalue', 'popular'])"
   ]
  },
  {
   "cell_type": "code",
   "execution_count": 3,
   "metadata": {},
   "outputs": [],
   "source": [
    "for i in range(10000):\n",
    "    tmp = pd.Series({'activitynum':random.randint(0,20), 'fbfriend':random.randint(0,1200), \n",
    "                     'igfan':random.randint(0,1200), 'joinsa':random.randint(0,1),\n",
    "                     'joinballteam':random.randint(0,1),'humorous':random.randint(0,1), \n",
    "                     'gpa':random.uniform(0, 4.3), 'bodyvalue':random.randint(1,10), \n",
    "                     'facevalue':random.randint(1,10), 'popular':random.randint(0,1)})\n",
    "    df = df.append(tmp, ignore_index=True)\n"
   ]
  },
  {
   "cell_type": "markdown",
   "metadata": {},
   "source": [
    "# Decision tree based on my rule\n",
    "\n",
    "## Rule:以活動參加數多寡分為三類\n",
    "### \n",
    "### 1.第一類人(16-20)參加很多活動\n",
    "#### 1-1若幽默>>Winner\n",
    "#### 1-2不幽默但顏值高>>Winner\n",
    "#### 1-3兩項特質都無，只是愛跑活動>>Loser\n",
    "### 2.第二類人(9-15)參加活動也不少\n",
    "#### 2-1若身材好，為球隊一分子且顏值高>>Winner\n",
    "#### 2-2若身材好，為球隊一分子但顏值普通>>Loser\n",
    "#### 2-3若只有身材好>>Loser\n",
    "#### 2-4若身材不佳，但幽默且顏值高>>Winner\n",
    "#### 2-5若身材不佳，但幽默且顏值普通>>Loser\n",
    "#### 2-6若身材不佳又不幽默>>Loser\n",
    "### 3.第二類人(0-8)參加少數活動或不參加\n",
    "#### 3-1若身材好，為球隊一分子且顏值高>>Winner\n",
    "#### 3-2若身材好，為球隊一分子但顏值普通>>Loser\n",
    "#### 3-3若只有身材好>>Loser\n",
    "#### 3-4若身材不佳，但顏值高>>Winner\n",
    "#### 3-5若身材不佳，顏值普通但是是學霸>>Winner\n",
    "#### 3-6若身材不佳，顏值、成績普通，但加入學生會>>Winner\n",
    "#### 3-7若身材不佳，顏值、成績普通，也沒加入學生會>>Loser\n",
    "#### 3-8若身材不佳，顏值普通且成績不佳>>Loser\n",
    "#### 3-9若身材不佳，顏值不佳>>Loser\n",
    "![](https://i.imgur.com/mCMhNNK.png)"
   ]
  },
  {
   "cell_type": "code",
   "execution_count": 4,
   "metadata": {
    "scrolled": true
   },
   "outputs": [],
   "source": [
    "for i in range(df.shape[0]):\n",
    "    if df.loc[i,'activitynum'] > 15:\n",
    "        if df.loc[i,'humorous'] == 1:\n",
    "            df.at[i,'popular'] = 1\n",
    "        else:\n",
    "            if df.loc[i,'facevalue'] > 7:\n",
    "                df.at[i,'popular'] = 1\n",
    "            else:\n",
    "                df.at[i,'popular'] = 0\n",
    "    elif df.loc[i,'activitynum'] > 8:\n",
    "        if df.loc[i,'bodyvalue'] > 5:\n",
    "            if df.loc[i,'joinballteam'] == 1:\n",
    "                if df.loc[i,'facevalue'] > 7:\n",
    "                    df.at[i,'popular'] = 1\n",
    "                else:\n",
    "                    df.at[i,'popular'] = 0\n",
    "            else:\n",
    "                df.at[i,'popular'] = 0\n",
    "        else:\n",
    "            if df.loc[i,'humorous'] == 1:\n",
    "                if df.loc[i,'facevalue'] > 7:\n",
    "                    df.at[i,'popular'] = 1\n",
    "                else:\n",
    "                    df.at[i,'popular'] = 0\n",
    "            else:\n",
    "                df.at[i,'popular'] = 0\n",
    "    else:\n",
    "        if df.loc[i,'bodyvalue'] > 5:\n",
    "            if df.loc[i,'joinballteam'] == 1:\n",
    "                if df.loc[i,'facevalue'] > 7:\n",
    "                    df.at[i,'popular'] = 1\n",
    "                else:\n",
    "                    df.at[i,'popular'] = 0\n",
    "            else:\n",
    "                df.at[i,'popular'] = 0\n",
    "        else:\n",
    "            if df.loc[i,'facevalue'] > 7:\n",
    "                df.at[i,'popular'] = 1\n",
    "            elif df.loc[i,'facevalue'] > 3:\n",
    "                if df.loc[i,'gpa'] > 4:\n",
    "                    df.at[i,'popular'] = 1\n",
    "                elif df.loc[i,'gpa'] > 3:\n",
    "                    if df.loc[i,'joinsa'] == 1:\n",
    "                        df.at[i,'popular'] = 1\n",
    "                    else:\n",
    "                        df.at[i,'popular'] = 0\n",
    "                else:\n",
    "                    df.at[i,'popular'] = 0\n",
    "            else:\n",
    "                df.at[i,'popular'] = 0"
   ]
  },
  {
   "cell_type": "code",
   "execution_count": 5,
   "metadata": {},
   "outputs": [],
   "source": [
    "df_train = df[:8000]\n",
    "df_train.head()\n",
    "df_test = df[8000:]\n",
    "df_test.head()\n",
    "\n",
    "y = df_train['popular'].values\n",
    "df_train = df_train.drop('popular', 1)"
   ]
  },
  {
   "cell_type": "code",
   "execution_count": 6,
   "metadata": {},
   "outputs": [
    {
     "data": {
      "text/plain": [
       "True"
      ]
     },
     "execution_count": 6,
     "metadata": {},
     "output_type": "execute_result"
    }
   ],
   "source": [
    "dtree=DecisionTreeClassifier(max_depth=4)\n",
    "dtree.fit(df_train,y)\n",
    "\n",
    "dot_data = StringIO()\n",
    "export_graphviz(dtree, \n",
    "                out_file=dot_data,  \n",
    "                filled=True, \n",
    "                feature_names=list(df_train),\n",
    "                class_names=['Loser','Winner'],\n",
    "                special_characters=True)\n",
    "\n",
    "graph = pydotplus.graph_from_dot_data(dot_data.getvalue())  \n",
    "graph.write_pdf(\"tree.pdf\")"
   ]
  },
  {
   "cell_type": "code",
   "execution_count": 7,
   "metadata": {},
   "outputs": [
    {
     "data": {
      "text/plain": [
       "array([0.21346011, 0.        , 0.        , 0.        , 0.05691159,\n",
       "       0.24113546, 0.00474703, 0.08275822, 0.40098759])"
      ]
     },
     "execution_count": 7,
     "metadata": {},
     "output_type": "execute_result"
    }
   ],
   "source": [
    "dtree.feature_importances_"
   ]
  },
  {
   "cell_type": "code",
   "execution_count": 8,
   "metadata": {},
   "outputs": [
    {
     "data": {
      "text/plain": [
       "array([0., 0., 0., ..., 1., 1., 0.])"
      ]
     },
     "execution_count": 8,
     "metadata": {},
     "output_type": "execute_result"
    }
   ],
   "source": [
    "y_test = df_test['popular'].values\n",
    "X_test = df_test.drop('popular', 1)\n",
    "\n",
    "y_predict = dtree.predict(X_test)\n",
    "\n",
    "y_predict"
   ]
  },
  {
   "cell_type": "markdown",
   "metadata": {},
   "source": [
    "# Accuracy"
   ]
  },
  {
   "cell_type": "code",
   "execution_count": 9,
   "metadata": {},
   "outputs": [
    {
     "data": {
      "text/plain": [
       "0.9595"
      ]
     },
     "execution_count": 9,
     "metadata": {},
     "output_type": "execute_result"
    }
   ],
   "source": [
    "from sklearn.metrics import accuracy_score\n",
    "\n",
    "accuracy_score(y_test, y_predict)"
   ]
  },
  {
   "cell_type": "markdown",
   "metadata": {},
   "source": [
    "# Decision tree based on sklearn.tree\n",
    "![](https://i.imgur.com/axFjtEi.jpg)"
   ]
  },
  {
   "cell_type": "markdown",
   "metadata": {},
   "source": [
    "# Discussion\n",
    "\n",
    "### 1.FB好友(FBFRIEND)以及IG追蹤數(IGFAN)這兩個atrtribute在rule裡面並沒有出現，不會對一個人是否為夯哥(姐)造成影響，在Decision Tree裡面也沒有將此二項作為判斷的node。\n",
    "### 2.基本上只要有高顏值(FACEVALUE)就會成為夯哥(姐)，是主要的判斷依據，而此屬性也出現在Decision Tree的root node，作為基本二分的首要條件。\n",
    "### 3.若有好的身材(BODYVALUE)、良好運動能力(JOINBALLTEAM)以及幽默感(HUMOROUS)，也可以成為夯哥(姐)，這些屬性也出現在Decision Tree的root node，其中身材(BODYVALUE)要搭配良好運動能力(JOINBALLTEAM)才有成為夯哥(姐)的機會，可由左半部及右半部各有一個身材(BODYVALUE)看出來兩者需要同時出現才能產生成為夯哥(姐)的結果。\n",
    "### 4.參加活動數本來在我自己的rule內是最一開始的分類依據，但並不是最後影響結果最重要的屬性，在Decision Tree第二層出現；而右下半部出現的另一個參加活動數的node，其中它的gini值為同層最高，可見得不是一個最好的分類條件。\n",
    "### 5.若前面所提的屬性數值都不高，在我的rule內仍有設置能成為夯哥(姐)的條件:學習成績(GPA)和加入學生會(JOINSA)，但要同時滿足，且前者的條件高情況下，若判斷到此項基本上不太可能成為夯哥(姐)；而後者在Decision Tree中並沒有出現，判斷原因為:因為實際上要和高學習成績(GPA)搭配，在沒有其他搭配屬性情況下，對於決定分支結果沒有太重大的影響。"
   ]
  },
  {
   "cell_type": "code",
   "execution_count": null,
   "metadata": {},
   "outputs": [],
   "source": []
  }
 ],
 "metadata": {
  "kernelspec": {
   "display_name": "Python 3",
   "language": "python",
   "name": "python3"
  },
  "language_info": {
   "codemirror_mode": {
    "name": "ipython",
    "version": 3
   },
   "file_extension": ".py",
   "mimetype": "text/x-python",
   "name": "python",
   "nbconvert_exporter": "python",
   "pygments_lexer": "ipython3",
   "version": "3.5.2"
  }
 },
 "nbformat": 4,
 "nbformat_minor": 2
}
